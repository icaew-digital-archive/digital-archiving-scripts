{
 "cells": [
  {
   "cell_type": "markdown",
   "metadata": {},
   "source": [
    "# web_scrape.ipynb"
   ]
  },
  {
   "cell_type": "markdown",
   "metadata": {},
   "source": [
    "Takes the pickle file output from get_html.py and uses BeautifulSoup to extract information."
   ]
  },
  {
   "cell_type": "markdown",
   "metadata": {},
   "source": [
    "## Imports"
   ]
  },
  {
   "cell_type": "code",
   "execution_count": null,
   "metadata": {},
   "outputs": [],
   "source": [
    "import itertools\n",
    "import pickle\n",
    "from urllib.parse import urlparse\n",
    "\n",
    "import pandas as pd\n",
    "from bs4 import BeautifulSoup"
   ]
  },
  {
   "cell_type": "markdown",
   "metadata": {},
   "source": [
    "## Load Pickle file"
   ]
  },
  {
   "cell_type": "code",
   "execution_count": null,
   "metadata": {},
   "outputs": [],
   "source": [
    "FILE = open(input('Path to pickle file: '), \"rb\")\n",
    "output = pickle.load(FILE)"
   ]
  },
  {
   "cell_type": "markdown",
   "metadata": {},
   "source": [
    "## Function definitions"
   ]
  },
  {
   "cell_type": "code",
   "execution_count": null,
   "metadata": {},
   "outputs": [],
   "source": [
    "def print_k_v(key, value):\n",
    "    print(f'URL: {key}\\n\\n{value.strip()}')\n",
    "\n",
    "\n",
    "def get_links(soup):\n",
    "    \"\"\"Get hrefs from <a> tags and return list\"\"\"\n",
    "    link_list = []\n",
    "    links = soup.findAll('a')\n",
    "    for link in links:\n",
    "        try:\n",
    "            link_list.append(link[\"href\"].strip())\n",
    "        except Exception as e:\n",
    "            #             print(e)\n",
    "            pass\n",
    "    return link_list\n",
    "\n",
    "\n",
    "def find_link(page, search_string):\n",
    "    \"\"\"Get hrefs from <a> tags and return list that includes the search string\"\"\"\n",
    "    match_links = []\n",
    "    for link in get_links(page):\n",
    "        if search_string in link:\n",
    "            match_links.append(link)\n",
    "    return match_links\n",
    "\n",
    "\n",
    "def element_test(soup, tag, attr_type, attr_val):\n",
    "    \"\"\"Return True or False if HTML contains element as defined in soup.findAll\"\"\"\n",
    "    out = soup.findAll(tag, attrs={attr_type: attr_val})\n",
    "    return bool(out)\n",
    "\n",
    "\n",
    "def reduce_dict_size(dictionary, N):\n",
    "    \"\"\"This reduces dict size to N, used for testing notebook\"\"\"\n",
    "    return dict(itertools.islice(output.items(), N))\n"
   ]
  },
  {
   "cell_type": "code",
   "execution_count": null,
   "metadata": {},
   "outputs": [],
   "source": [
    "# Reduce dictionary size - for testing purposes\n",
    "# output = reduce_dict_size(output, 100)\n",
    "\n",
    "# Test to see whether the pickle file contains logged-in HTML content\n",
    "# print(output[\"www.example.com/logged-in-content\"])"
   ]
  },
  {
   "cell_type": "markdown",
   "metadata": {},
   "source": [
    "## Loop of main {URL:HTML content} dictionary"
   ]
  },
  {
   "cell_type": "code",
   "execution_count": null,
   "metadata": {},
   "outputs": [],
   "source": [
    "# Build lists\n",
    "more_link_list = []\n",
    "tab_list = []\n",
    "c_filter_dynamic_list = []\n",
    "restricted_content_list = []\n",
    "\n",
    "# Main loop\n",
    "for url, page in output.items():\n",
    "    # Create soup object\n",
    "    soup = BeautifulSoup(page, \"html.parser\")\n",
    "\n",
    "    # Build list of Boolean values - More-link\n",
    "    if element_test(soup, tag=\"div\", attr_type=\"class\", attr_val=\"more-link\"):\n",
    "        more_link_list.append(True)\n",
    "    else:\n",
    "        more_link_list.append(False)\n",
    "        \n",
    "    # Build list of Boolean values - Tab-placeholder\n",
    "    if element_test(soup, tag=\"div\", attr_type=\"class\", attr_val=\"tab-placeholder\"):\n",
    "        tab_list.append(True)\n",
    "    else:\n",
    "        tab_list.append(False)\n",
    "        \n",
    "    # Build list of Boolean values - C-filter--dynamic\n",
    "    if element_test(soup, tag=\"div\", attr_type=\"class\", attr_val=\"c-filter--dynamic\"):\n",
    "        c_filter_dynamic_list.append(True)\n",
    "    else:\n",
    "        c_filter_dynamic_list.append(False)\n",
    "        \n",
    "    # Build list of Boolean values - Restricted content\n",
    "    if element_test(soup, tag=\"section\", attr_type=\"class\", attr_val=\"secure-warning\") or element_test(soup, tag=\"div\", attr_type=\"id\", attr_val=\"restricted\"):\n",
    "        restricted_content_list.append(True)\n",
    "    else:\n",
    "        restricted_content_list.append(False)"
   ]
  },
  {
   "cell_type": "markdown",
   "metadata": {},
   "source": [
    "## Create DataFrame"
   ]
  },
  {
   "cell_type": "code",
   "execution_count": null,
   "metadata": {},
   "outputs": [],
   "source": [
    "pd.set_option('display.max_rows', 1000) # Notebook display option\n",
    "df = pd.DataFrame.from_dict(output, orient = 'index')\n",
    "df = df.drop(df.columns[0], axis=1) # Drop HTML content from df\n",
    "\n",
    "# Add df columns\n",
    "df[\"More-link\"] = more_link_list\n",
    "df[\"Tab-placeholder\"] = tab_list\n",
    "df[\"C-filter-dynamic\"] = c_filter_dynamic_list\n",
    "df[\"Restricted content\"] = restricted_content_list\n",
    "\n",
    "# Display df\n",
    "df"
   ]
  },
  {
   "cell_type": "markdown",
   "metadata": {},
   "source": [
    "## Output to Excel"
   ]
  },
  {
   "cell_type": "code",
   "execution_count": null,
   "metadata": {},
   "outputs": [],
   "source": [
    "df.to_excel('df_out.xlsx')"
   ]
  }
 ],
 "metadata": {
  "kernelspec": {
   "display_name": "Python 3",
   "language": "python",
   "name": "python3"
  },
  "language_info": {
   "codemirror_mode": {
    "name": "ipython",
    "version": 3
   },
   "file_extension": ".py",
   "mimetype": "text/x-python",
   "name": "python",
   "nbconvert_exporter": "python",
   "pygments_lexer": "ipython3",
   "version": "3.7.6"
  }
 },
 "nbformat": 4,
 "nbformat_minor": 4
}
