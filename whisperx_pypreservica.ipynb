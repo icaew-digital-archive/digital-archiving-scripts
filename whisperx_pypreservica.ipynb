{
  "cells": [
    {
      "cell_type": "markdown",
      "metadata": {
        "id": "5F3_Mhi0e_nS"
      },
      "source": [
        "# **Automated Video Transcription and Preservation Workflow**\n",
        "\n",
        "This script automates the transcription of video files and their preservation using [WhisperX](https://github.com/m-bain/whisperX) and [pyPreservica](https://github.com/carj/pyPreservica), integrating Google Drive for file management.\n",
        "\n",
        "## **Workflow Overview**\n",
        "\n",
        "1. **Install Tools**: The script installs WhisperX for speech-to-text transcription and `ffmpeg` for multimedia handling.\n",
        "\n",
        "2. **Google Drive Integration**: It mounts Google Drive to access and manage media files.\n",
        "\n",
        "3. **Directory Setup**: The script sets up directories for videos to be processed and stores the processed outputs.\n",
        "\n",
        "4. **Video Transcription**: Videos are transcribed using WhisperX, generating `.srt` subtitle files, which are then moved to the processed folder.\n",
        "\n",
        "5. **Preservica Upload**: After processing, the script uploads the videos and subtitles to Preservica for secure digital preservation."
      ]
    },
    {
      "cell_type": "markdown",
      "metadata": {
        "id": "px7g8qyjavZC"
      },
      "source": [
        "## Mount Google Drive"
      ]
    },
    {
      "cell_type": "code",
      "execution_count": null,
      "metadata": {
        "id": "huynU80dZ7Kp"
      },
      "outputs": [],
      "source": [
        "# This step is necessary to access files stored on your Google Drive, especially if you are using Google Colab.\n",
        "from google.colab import drive\n",
        "drive.mount('/content/drive')"
      ]
    },
    {
      "cell_type": "markdown",
      "metadata": {
        "id": "O8qrDkbNA6EX"
      },
      "source": [
        "## T4 (GPU Access)"
      ]
    },
    {
      "cell_type": "code",
      "execution_count": null,
      "metadata": {
        "id": "JLVDsZD1A1SB"
      },
      "outputs": [],
      "source": [
        "# Set this to True if connected to a T4 runtime, else set to False if connected to CPU runtime\n",
        "gpu_access = True"
      ]
    },
    {
      "cell_type": "markdown",
      "metadata": {
        "id": "YCRkc3rmal4n"
      },
      "source": [
        "# WhisperX"
      ]
    },
    {
      "cell_type": "markdown",
      "metadata": {
        "id": "ewaS80u6acMd"
      },
      "source": [
        "## Install necessary packages"
      ]
    },
    {
      "cell_type": "code",
      "execution_count": null,
      "metadata": {
        "id": "3fUweblN3Gd2"
      },
      "outputs": [],
      "source": [
        "# THIS ENTIRE CELL EXAMPLE IS FROM HERE: https://github.com/m-bain/whisperX/issues/1087\n",
        "\n",
        "!pip uninstall torch torchvision torchaudio -y\n",
        "\n",
        "# Workaround from: https://github.com/m-bain/whisperX/issues/1027#issuecomment-2627525081\n",
        "!pip install torch==2.5.1 torchvision==0.20.1 torchaudio==2.5.1 --index-url https://download.pytorch.org/whl/cu121\n",
        "\n",
        "# WhisperX-related packages:\n",
        "!pip install ctranslate2==4.4.0\n",
        "!pip install faster-whisper==1.1.0\n",
        "# !pip install git+https://github.com/m-bain/whisperx.git\n",
        "!pip install whisperx==3.3.1\n",
        "\n",
        "!apt-get update\n",
        "!apt-get install libcudnn8=8.9.2.26-1+cuda12.1\n",
        "!apt-get install libcudnn8-dev=8.9.2.26-1+cuda12.1\n",
        "\n",
        "!python -c \"import torch; torch.backends.cuda.matmul.allow_tf32 = True; torch.backends.cudnn.allow_tf32 = True\"\n",
        "\n",
        "print('WhisperX installation complete!')"
      ]
    },
    {
      "cell_type": "markdown",
      "metadata": {
        "id": "OYp5AoMta8Du"
      },
      "source": [
        "## Import required libraries"
      ]
    },
    {
      "cell_type": "code",
      "execution_count": null,
      "metadata": {
        "id": "NPoDWlMtZ-ak"
      },
      "outputs": [],
      "source": [
        "import os\n",
        "import shutil"
      ]
    },
    {
      "cell_type": "markdown",
      "metadata": {
        "id": "-x-1ZmWVbAP7"
      },
      "source": [
        "## Define paths for the directories"
      ]
    },
    {
      "cell_type": "code",
      "execution_count": null,
      "metadata": {
        "id": "j-eN7OoyaADX"
      },
      "outputs": [],
      "source": [
        "# Define paths for the directories\n",
        "base_folder = '/content/drive/My Drive/Media for transcription'\n",
        "to_process_folder = os.path.join(base_folder, 'To be processed')\n",
        "processed_folder = os.path.join(base_folder, 'Processed')\n",
        "processed_and_ingested_folder = os.path.join(base_folder, 'Processed and ingested')"
      ]
    },
    {
      "cell_type": "markdown",
      "metadata": {
        "id": "fXNEYkzebHdP"
      },
      "source": [
        "## Create the necessary directories if they don't exist"
      ]
    },
    {
      "cell_type": "code",
      "execution_count": null,
      "metadata": {
        "id": "SH13UhwGaC9N"
      },
      "outputs": [],
      "source": [
        "# Create the necessary directories if they don't exist\n",
        "os.makedirs(to_process_folder, exist_ok=True)\n",
        "os.makedirs(processed_folder, exist_ok=True)\n",
        "os.makedirs(processed_and_ingested_folder, exist_ok=True)"
      ]
    },
    {
      "cell_type": "markdown",
      "metadata": {
        "id": "a4wJgAY_bOuq"
      },
      "source": [
        "## Loop through all files in the 'To be processed' folder"
      ]
    },
    {
      "cell_type": "code",
      "execution_count": null,
      "metadata": {
        "id": "70cr18E2aErP"
      },
      "outputs": [],
      "source": [
        "# This loop will go through each video file in the 'To be processed' folder, process it using WhisperX,\n",
        "# and then move the video and its subtitles to the 'Processed' folder.\n",
        "for filename in os.listdir(to_process_folder):\n",
        "    if filename.endswith(('.mp4', '.mkv', '.avi', '.mov', '.flv', '.wmv', '.m4v')):  # Add more extensions as needed\n",
        "        input_path = os.path.join(to_process_folder, filename)\n",
        "\n",
        "        print(f\"Processing {filename}...\")\n",
        "\n",
        "        # Define output path for subtitles directly in the 'Processed' folder\n",
        "        # The output .srt subtitle file will be saved in the 'Processed' folder.\n",
        "        output_folder = processed_folder\n",
        "        output_srt_path = os.path.join(output_folder, f\"{os.path.splitext(filename)[0]}.srt\")\n",
        "\n",
        "        # Run WhisperX transcription and alignment via CLI\n",
        "        # This command transcribes the video using WhisperX, specifying a large model for transcription,\n",
        "        # and aligns the output to generate subtitles in the .srt format.\n",
        "\n",
        "        if gpu_access:\n",
        "            !whisperx \"{input_path}\" --model large-v2 --align_model WAV2VEC2_ASR_LARGE_LV60K_960H --chunk_size 4 --language 'en' --output_format 'srt' --output_dir \"{output_folder}\"\n",
        "        else:\n",
        "            !whisperx \"{input_path}\" --model large-v2 --align_model WAV2VEC2_ASR_LARGE_LV60K_960H --chunk_size 4 --language 'en' --output_format 'srt' --compute_type int8 --output_dir \"{output_folder}\"\n",
        "\n",
        "        # Check if the subtitles file exists\n",
        "        if os.path.exists(output_srt_path):\n",
        "            print(f\"Subtitles saved to {output_srt_path}\")\n",
        "        else:\n",
        "            raise FileNotFoundError(f\"Failed to save subtitles at {output_srt_path}. Halting the script.\")\n",
        "\n",
        "        # Move the processed media file to the 'Processed' folder\n",
        "        # After transcription, the video file is moved to the 'Processed' folder.\n",
        "        processed_path = os.path.join(processed_folder, filename)\n",
        "        shutil.move(input_path, processed_path)\n",
        "\n",
        "print(\"Processing complete.\")"
      ]
    },
    {
      "cell_type": "markdown",
      "metadata": {
        "id": "YU3nJRS8bTQC"
      },
      "source": [
        "# pyPreservica"
      ]
    },
    {
      "cell_type": "markdown",
      "metadata": {
        "id": "4UMxmw3ebd80"
      },
      "source": [
        "## Install pyPreservica"
      ]
    },
    {
      "cell_type": "code",
      "execution_count": null,
      "metadata": {
        "id": "IW5IQvzSaGqz"
      },
      "outputs": [],
      "source": [
        "# # pyPreservica is a Python library for interacting with the Preservica digital preservation platform.\n",
        "# !pip install pypreservica"
      ]
    },
    {
      "cell_type": "markdown",
      "metadata": {
        "id": "xGfyB9tjbihr"
      },
      "source": [
        "## Collect credentials for Preservica"
      ]
    },
    {
      "cell_type": "code",
      "execution_count": null,
      "metadata": {
        "collapsed": true,
        "id": "Rbe77RamaIcc"
      },
      "outputs": [],
      "source": [
        "# # User is prompted to enter their Preservica credentials, which are necessary for uploading files.\n",
        "# from getpass import getpass\n",
        "\n",
        "# USERNAME = input(\"Enter your USERNAME: \")\n",
        "# PASSWORD = getpass(\"Enter your PASSWORD: \")\n",
        "# TENANT = input(\"Enter your TENANT: \") # icaew\n",
        "# SERVER = input(\"Enter your SERVER: \") # eu.preservica.com"
      ]
    },
    {
      "cell_type": "markdown",
      "metadata": {
        "id": "b5LFzBcAbniN"
      },
      "source": [
        "## Define the Preservica folder ID where the files will be uploaded\n"
      ]
    },
    {
      "cell_type": "code",
      "execution_count": null,
      "metadata": {
        "id": "GVJotaY1aKV2"
      },
      "outputs": [],
      "source": [
        "# preservica_folder_id = \"7421d1a0-af87-47e7-9163-78401da161dc\""
      ]
    },
    {
      "cell_type": "markdown",
      "metadata": {
        "id": "Lwy1KOIvbrON"
      },
      "source": [
        "## Import necessary classes from pyPreservica"
      ]
    },
    {
      "cell_type": "code",
      "execution_count": null,
      "metadata": {
        "id": "KjxiUQI7aOsR"
      },
      "outputs": [],
      "source": [
        "# from pyPreservica import UploadAPI, complex_asset_package\n",
        "# import os"
      ]
    },
    {
      "cell_type": "markdown",
      "metadata": {
        "id": "zkhOuCKRbyWl"
      },
      "source": [
        "## Define the path to the 'Processed' folder"
      ]
    },
    {
      "cell_type": "code",
      "execution_count": null,
      "metadata": {
        "id": "3gNv5kxlaQ9j"
      },
      "outputs": [],
      "source": [
        "# This folder contains the processed videos and their corresponding subtitle files.\n",
        "processed_folder = '/content/drive/My Drive/Media for transcription/Processed'"
      ]
    },
    {
      "cell_type": "markdown",
      "metadata": {
        "id": "Ckywb_aDb20w"
      },
      "source": [
        "## Initialize Preservica client"
      ]
    },
    {
      "cell_type": "code",
      "execution_count": null,
      "metadata": {
        "id": "6TZk84twaS6S"
      },
      "outputs": [],
      "source": [
        "# # This creates an instance of the Preservica client, which will be used to upload files.\n",
        "# client = UploadAPI(username=USERNAME, password=PASSWORD,\n",
        "#                    tenant=TENANT, server=SERVER)"
      ]
    },
    {
      "cell_type": "markdown",
      "metadata": {
        "id": "6tE8vil9b7FK"
      },
      "source": [
        "## Upload processed files to Preservica"
      ]
    },
    {
      "cell_type": "code",
      "execution_count": null,
      "metadata": {
        "id": "sA3njN2PaTRs"
      },
      "outputs": [],
      "source": [
        "# for filename in os.listdir(processed_folder):\n",
        "#     if filename.endswith(('.mp4', '.mkv', '.avi', '.mov', '.flv')):  # Add more extensions as needed\n",
        "#         video_path = os.path.join(processed_folder, filename)\n",
        "#         srt_path = os.path.join(processed_folder, f\"{os.path.splitext(filename)[0]}.srt\")\n",
        "\n",
        "#         # Check if the corresponding subtitle file exists\n",
        "#         if os.path.exists(srt_path):\n",
        "#             files_to_upload = [video_path, srt_path]\n",
        "#         else:\n",
        "#             files_to_upload = [video_path]\n",
        "\n",
        "#         print(f\"Uploading files for {filename} to Preservica...\")\n",
        "\n",
        "#         # Create a complex asset package and upload it\n",
        "#         package = complex_asset_package(files_to_upload, parent_folder=preservica_folder_id, Description=\"\")\n",
        "#         client.upload_zip_package(package)\n",
        "\n",
        "#         print(f\"Uploaded {filename} and corresponding subtitles to Preservica.\")\n",
        "\n",
        "#         # Move the files to the \"Processed and Ingested\" folder after upload\n",
        "#         ingested_video_path = os.path.join(processed_and_ingested_folder, filename)\n",
        "#         shutil.move(video_path, ingested_video_path)\n",
        "\n",
        "#         if os.path.exists(srt_path):\n",
        "#             ingested_srt_path = os.path.join(processed_and_ingested_folder, os.path.basename(srt_path))\n",
        "#             shutil.move(srt_path, ingested_srt_path)\n",
        "\n",
        "# print(\"All files uploaded to Preservica and moved to the 'Processed and Ingested' folder.\")"
      ]
    },
    {
      "cell_type": "code",
      "execution_count": null,
      "metadata": {
        "id": "vyEyQE8_bXhw"
      },
      "outputs": [],
      "source": []
    }
  ],
  "metadata": {
    "accelerator": "GPU",
    "colab": {
      "gpuType": "T4",
      "provenance": []
    },
    "kernelspec": {
      "display_name": "Python 3",
      "name": "python3"
    },
    "language_info": {
      "name": "python"
    }
  },
  "nbformat": 4,
  "nbformat_minor": 0
}